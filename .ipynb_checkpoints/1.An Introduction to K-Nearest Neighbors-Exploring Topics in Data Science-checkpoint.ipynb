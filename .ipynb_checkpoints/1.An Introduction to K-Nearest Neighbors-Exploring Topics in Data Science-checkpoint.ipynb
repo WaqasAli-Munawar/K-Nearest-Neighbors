{
 "cells": [
  {
   "cell_type": "code",
   "execution_count": 1,
   "metadata": {},
   "outputs": [
    {
     "name": "stdout",
     "output_type": "stream",
     "text": [
      "['player' 'pos' 'age' 'bref_team_id' 'g' 'gs' 'mp' 'fg' 'fga' 'fg.' 'x3p'\n",
      " 'x3pa' 'x3p.' 'x2p' 'x2pa' 'x2p.' 'efg.' 'ft' 'fta' 'ft.' 'orb' 'drb'\n",
      " 'trb' 'ast' 'stl' 'blk' 'tov' 'pf' 'pts' 'season' 'season_end']\n"
     ]
    }
   ],
   "source": [
    "import pandas as pd\n",
    "nba = pd.read_csv(\"nba_2013.csv\")\n",
    "\n",
    "# The names of the columns in the data\n",
    "print(nba.columns.values)"
   ]
  },
  {
   "cell_type": "markdown",
   "metadata": {},
   "source": [
    "Here are a few of the columns:\n",
    "\n",
    "* `player` - The player's name\n",
    "* `pos` - The player's position\n",
    "* `g` - The number of games the player was in\n",
    "* `gs` - The number of games in which the player started\n",
    "* `pts` - The total points the player scored\n",
    "\n",
    "See [this site](https://www.rotowire.com/) for descriptions of the remaining columns."
   ]
  },
  {
   "attachments": {
    "image.png": {
     "image/png": "[encoded data removed]"
    }
   },
   "cell_type": "markdown",
   "metadata": {},
   "source": [
    "The **KNN algorithm** is based on the idea that we can predict values we don't know by matching them with the most similar values we do know.\n",
    "\n",
    "Before we can make predictions with KNN, we need to find some way to figure out which data rows are **closest** to the row we're trying to predict.\n",
    "\n",
    "A simple way to do this is to use Euclidean distance. The formula is:\n",
    "\n",
    "![image.png](attachment:image.png)\n",
    "\n",
    "Let's say we have these two rows and we want to find the distance between them:\n",
    "\n",
    "- `car`,`horsepower`,`racing_stripes`\n",
    "\n",
    "  `Honda Accord`,`180`,`0`\n",
    "  \n",
    "  `Chevrolet Camaro`,`400`,`1`\n",
    "\n",
    "We'd only select the numeric columns. The distance becomes , which is about equal to 220.\n"
   ]
  },
  {
   "attachments": {
    "image.png": {
     "image/png": "[encoded data removed]"
    }
   },
   "cell_type": "markdown",
   "metadata": {},
   "source": [
    "![image.png](attachment:image.png)"
   ]
  },
  {
   "cell_type": "code",
   "execution_count": 2,
   "metadata": {},
   "outputs": [],
   "source": [
    "# Create a function for calculating the Euclidean distance between two pandas series objects.\n",
    "\n",
    "selected_player = nba[nba[\"player\"] == \"LeBron James\"]\n",
    "distance_columns = ['age', 'g', 'gs', 'mp', 'fg', 'fga', 'fg.', 'x3p', 'x3pa', 'x3p.', \n",
    "                    'x2p', 'x2pa', 'x2p.', 'efg.', 'ft', 'fta', 'ft.', 'orb', 'drb',\n",
    "                    'trb', 'ast', 'stl', 'blk', 'tov', 'pf', 'pts']\n",
    "\n",
    "def euclidean_distance(row):\n",
    "    import math\n",
    "    euclidean_distance= 0\n",
    "    for col in distance_columns:\n",
    "        euclidean_distance += (row[col] - selected_player[col])**2\n",
    "    return math.sqrt(euclidean_distance)"
   ]
  },
  {
   "cell_type": "code",
   "execution_count": 35,
   "metadata": {},
   "outputs": [
    {
     "data": {
      "text/plain": [
       "0    3475.792868\n",
       "1            NaN\n",
       "2            NaN\n",
       "3    1189.554979\n",
       "4    3216.773098\n",
       "dtype: float64"
      ]
     },
     "execution_count": 35,
     "metadata": {},
     "output_type": "execute_result"
    }
   ],
   "source": [
    "lebron_distance = nba.apply(euclidean_distance, axis = 1)\n",
    "lebron_distance.head(5)"
   ]
  },
  {
   "cell_type": "markdown",
   "metadata": {},
   "source": [
    "We may have noticed that `horsepower` in the above example had a much larger impact on the final distance than `racing_stripes` did. That's because `horsepower` values are much larger in absolute terms, and therefore dwarf the impact of `racing_stripes` values in the Euclidean distance calculations.\n",
    "\n",
    "This can be bad, because having larger values doesn't necessarily make a variable better at predicting which rows are similar.\n",
    "\n",
    "A simple way to deal with this problem is to normalize all of the columns to have a **mean** of `0` and a **standard deviation** of `1`. This ensures that no single column has a dominant impact on the Euclidean distance calculations"
   ]
  },
  {
   "cell_type": "code",
   "execution_count": 36,
   "metadata": {},
   "outputs": [
    {
     "data": {
      "text/html": [
       "<div>\n",
       "<style scoped>\n",
       "    .dataframe tbody tr th:only-of-type {\n",
       "        vertical-align: middle;\n",
       "    }\n",
       "\n",
       "    .dataframe tbody tr th {\n",
       "        vertical-align: top;\n",
       "    }\n",
       "\n",
       "    .dataframe thead th {\n",
       "        text-align: right;\n",
       "    }\n",
       "</style>\n",
       "<table border=\"1\" class=\"dataframe\">\n",
       "  <thead>\n",
       "    <tr style=\"text-align: right;\">\n",
       "      <th></th>\n",
       "      <th>age</th>\n",
       "      <th>g</th>\n",
       "      <th>gs</th>\n",
       "      <th>mp</th>\n",
       "      <th>fg</th>\n",
       "      <th>fga</th>\n",
       "      <th>fg.</th>\n",
       "      <th>x3p</th>\n",
       "      <th>x3pa</th>\n",
       "      <th>x3p.</th>\n",
       "      <th>...</th>\n",
       "      <th>ft.</th>\n",
       "      <th>orb</th>\n",
       "      <th>drb</th>\n",
       "      <th>trb</th>\n",
       "      <th>ast</th>\n",
       "      <th>stl</th>\n",
       "      <th>blk</th>\n",
       "      <th>tov</th>\n",
       "      <th>pf</th>\n",
       "      <th>pts</th>\n",
       "    </tr>\n",
       "  </thead>\n",
       "  <tbody>\n",
       "    <tr>\n",
       "      <th>0</th>\n",
       "      <td>-0.835906</td>\n",
       "      <td>0.384886</td>\n",
       "      <td>-0.862207</td>\n",
       "      <td>-0.435088</td>\n",
       "      <td>-0.738401</td>\n",
       "      <td>-0.768505</td>\n",
       "      <td>0.319884</td>\n",
       "      <td>-0.700282</td>\n",
       "      <td>-0.716608</td>\n",
       "      <td>-0.117009</td>\n",
       "      <td>...</td>\n",
       "      <td>-0.389712</td>\n",
       "      <td>0.260690</td>\n",
       "      <td>-0.129462</td>\n",
       "      <td>-0.013116</td>\n",
       "      <td>-0.645220</td>\n",
       "      <td>-0.468056</td>\n",
       "      <td>0.061410</td>\n",
       "      <td>-0.667650</td>\n",
       "      <td>0.226515</td>\n",
       "      <td>-0.734621</td>\n",
       "    </tr>\n",
       "    <tr>\n",
       "      <th>1</th>\n",
       "      <td>-1.550487</td>\n",
       "      <td>1.095711</td>\n",
       "      <td>-0.187863</td>\n",
       "      <td>-0.045011</td>\n",
       "      <td>-0.581271</td>\n",
       "      <td>-0.649215</td>\n",
       "      <td>0.674593</td>\n",
       "      <td>-0.778936</td>\n",
       "      <td>-0.829601</td>\n",
       "      <td>NaN</td>\n",
       "      <td>...</td>\n",
       "      <td>-0.882950</td>\n",
       "      <td>1.387883</td>\n",
       "      <td>0.187020</td>\n",
       "      <td>0.565852</td>\n",
       "      <td>-0.530733</td>\n",
       "      <td>0.020680</td>\n",
       "      <td>1.065446</td>\n",
       "      <td>-0.013760</td>\n",
       "      <td>1.363938</td>\n",
       "      <td>-0.534801</td>\n",
       "    </tr>\n",
       "    <tr>\n",
       "      <th>2</th>\n",
       "      <td>0.116868</td>\n",
       "      <td>-0.010016</td>\n",
       "      <td>-0.457600</td>\n",
       "      <td>-0.308035</td>\n",
       "      <td>-0.290291</td>\n",
       "      <td>-0.405214</td>\n",
       "      <td>0.846880</td>\n",
       "      <td>-0.778936</td>\n",
       "      <td>-0.829601</td>\n",
       "      <td>NaN</td>\n",
       "      <td>...</td>\n",
       "      <td>-0.520826</td>\n",
       "      <td>0.743773</td>\n",
       "      <td>0.283340</td>\n",
       "      <td>0.436083</td>\n",
       "      <td>-0.568895</td>\n",
       "      <td>-0.439307</td>\n",
       "      <td>0.385292</td>\n",
       "      <td>-0.524113</td>\n",
       "      <td>0.029924</td>\n",
       "      <td>-0.328603</td>\n",
       "    </tr>\n",
       "    <tr>\n",
       "      <th>3</th>\n",
       "      <td>0.355062</td>\n",
       "      <td>0.779789</td>\n",
       "      <td>1.599148</td>\n",
       "      <td>1.465144</td>\n",
       "      <td>1.577804</td>\n",
       "      <td>1.590172</td>\n",
       "      <td>0.228673</td>\n",
       "      <td>1.737992</td>\n",
       "      <td>1.430256</td>\n",
       "      <td>0.898007</td>\n",
       "      <td>...</td>\n",
       "      <td>0.578033</td>\n",
       "      <td>-0.383420</td>\n",
       "      <td>0.462221</td>\n",
       "      <td>0.216475</td>\n",
       "      <td>1.033919</td>\n",
       "      <td>-0.123066</td>\n",
       "      <td>-0.683520</td>\n",
       "      <td>1.182380</td>\n",
       "      <td>0.423107</td>\n",
       "      <td>1.729123</td>\n",
       "    </tr>\n",
       "    <tr>\n",
       "      <th>4</th>\n",
       "      <td>-0.359519</td>\n",
       "      <td>0.108454</td>\n",
       "      <td>0.149309</td>\n",
       "      <td>-0.319180</td>\n",
       "      <td>-0.331028</td>\n",
       "      <td>-0.475703</td>\n",
       "      <td>1.110379</td>\n",
       "      <td>-0.778936</td>\n",
       "      <td>-0.822068</td>\n",
       "      <td>-1.808704</td>\n",
       "      <td>...</td>\n",
       "      <td>0.709147</td>\n",
       "      <td>0.614951</td>\n",
       "      <td>0.138859</td>\n",
       "      <td>0.291341</td>\n",
       "      <td>-0.553630</td>\n",
       "      <td>-0.468056</td>\n",
       "      <td>0.709175</td>\n",
       "      <td>-0.141348</td>\n",
       "      <td>1.139262</td>\n",
       "      <td>-0.400878</td>\n",
       "    </tr>\n",
       "  </tbody>\n",
       "</table>\n",
       "<p>5 rows × 26 columns</p>\n",
       "</div>"
      ],
      "text/plain": [
       "        age         g        gs        mp        fg       fga       fg.  \\\n",
       "0 -0.835906  0.384886 -0.862207 -0.435088 -0.738401 -0.768505  0.319884   \n",
       "1 -1.550487  1.095711 -0.187863 -0.045011 -0.581271 -0.649215  0.674593   \n",
       "2  0.116868 -0.010016 -0.457600 -0.308035 -0.290291 -0.405214  0.846880   \n",
       "3  0.355062  0.779789  1.599148  1.465144  1.577804  1.590172  0.228673   \n",
       "4 -0.359519  0.108454  0.149309 -0.319180 -0.331028 -0.475703  1.110379   \n",
       "\n",
       "        x3p      x3pa      x3p.  ...       ft.       orb       drb       trb  \\\n",
       "0 -0.700282 -0.716608 -0.117009  ... -0.389712  0.260690 -0.129462 -0.013116   \n",
       "1 -0.778936 -0.829601       NaN  ... -0.882950  1.387883  0.187020  0.565852   \n",
       "2 -0.778936 -0.829601       NaN  ... -0.520826  0.743773  0.283340  0.436083   \n",
       "3  1.737992  1.430256  0.898007  ...  0.578033 -0.383420  0.462221  0.216475   \n",
       "4 -0.778936 -0.822068 -1.808704  ...  0.709147  0.614951  0.138859  0.291341   \n",
       "\n",
       "        ast       stl       blk       tov        pf       pts  \n",
       "0 -0.645220 -0.468056  0.061410 -0.667650  0.226515 -0.734621  \n",
       "1 -0.530733  0.020680  1.065446 -0.013760  1.363938 -0.534801  \n",
       "2 -0.568895 -0.439307  0.385292 -0.524113  0.029924 -0.328603  \n",
       "3  1.033919 -0.123066 -0.683520  1.182380  0.423107  1.729123  \n",
       "4 -0.553630 -0.468056  0.709175 -0.141348  1.139262 -0.400878  \n",
       "\n",
       "[5 rows x 26 columns]"
      ]
     },
     "execution_count": 36,
     "metadata": {},
     "output_type": "execute_result"
    }
   ],
   "source": [
    "nba_numeric = nba[distance_columns]\n",
    "nba_normalized = (nba_numeric - nba_numeric.mean())/nba_numeric.std()\n",
    "nba_normalized.head()"
   ]
  },
  {
   "cell_type": "markdown",
   "metadata": {},
   "source": [
    "Now we know enough to find the nearest neighbor of a given row. Instead of the Euclidean distance formula, we can use the `distance.euclidean` function from `scipy.spatial`, which is a much faster way to calculate Euclidean distance."
   ]
  },
  {
   "cell_type": "code",
   "execution_count": 37,
   "metadata": {},
   "outputs": [],
   "source": [
    "from scipy.spatial import distance\n",
    "\n",
    "# Fill in the NA values in nba_normalized\n",
    "nba_normalized.fillna(0, inplace=True)\n",
    "\n",
    "# Find the normalized vector for Lebron James\n",
    "lebron_normalized = nba_normalized[nba[\"player\"] == \"LeBron James\"]\n",
    "\n",
    "# Find the distance between Lebron James and everyone else.\n",
    "euclidean_distances = nba_normalized.apply(lambda row:distance.euclidean(row, lebron_normalized), axis = 1)"
   ]
  },
  {
   "cell_type": "code",
   "execution_count": 38,
   "metadata": {},
   "outputs": [],
   "source": [
    "distance_frame = pd.DataFrame(data={\"dist\": euclidean_distances, \"idx\": euclidean_distances.index})\n",
    "distance_frame.sort_values(\"dist\", inplace=True)"
   ]
  },
  {
   "cell_type": "code",
   "execution_count": 39,
   "metadata": {},
   "outputs": [
    {
     "data": {
      "text/html": [
       "<div>\n",
       "<style scoped>\n",
       "    .dataframe tbody tr th:only-of-type {\n",
       "        vertical-align: middle;\n",
       "    }\n",
       "\n",
       "    .dataframe tbody tr th {\n",
       "        vertical-align: top;\n",
       "    }\n",
       "\n",
       "    .dataframe thead th {\n",
       "        text-align: right;\n",
       "    }\n",
       "</style>\n",
       "<table border=\"1\" class=\"dataframe\">\n",
       "  <thead>\n",
       "    <tr style=\"text-align: right;\">\n",
       "      <th></th>\n",
       "      <th>dist</th>\n",
       "      <th>idx</th>\n",
       "    </tr>\n",
       "  </thead>\n",
       "  <tbody>\n",
       "    <tr>\n",
       "      <th>225</th>\n",
       "      <td>0.000000</td>\n",
       "      <td>225</td>\n",
       "    </tr>\n",
       "    <tr>\n",
       "      <th>17</th>\n",
       "      <td>4.171854</td>\n",
       "      <td>17</td>\n",
       "    </tr>\n",
       "    <tr>\n",
       "      <th>136</th>\n",
       "      <td>4.206786</td>\n",
       "      <td>136</td>\n",
       "    </tr>\n",
       "    <tr>\n",
       "      <th>128</th>\n",
       "      <td>4.382582</td>\n",
       "      <td>128</td>\n",
       "    </tr>\n",
       "    <tr>\n",
       "      <th>185</th>\n",
       "      <td>4.489928</td>\n",
       "      <td>185</td>\n",
       "    </tr>\n",
       "  </tbody>\n",
       "</table>\n",
       "</div>"
      ],
      "text/plain": [
       "         dist  idx\n",
       "225  0.000000  225\n",
       "17   4.171854   17\n",
       "136  4.206786  136\n",
       "128  4.382582  128\n",
       "185  4.489928  185"
      ]
     },
     "execution_count": 39,
     "metadata": {},
     "output_type": "execute_result"
    }
   ],
   "source": [
    "distance_frame.head()"
   ]
  },
  {
   "cell_type": "code",
   "execution_count": 40,
   "metadata": {},
   "outputs": [
    {
     "data": {
      "text/plain": [
       "17.0"
      ]
     },
     "execution_count": 40,
     "metadata": {},
     "output_type": "execute_result"
    }
   ],
   "source": [
    "second_smallest = distance_frame.iloc[1][\"idx\"]\n",
    "second_smallest"
   ]
  },
  {
   "cell_type": "code",
   "execution_count": 41,
   "metadata": {},
   "outputs": [
    {
     "data": {
      "text/plain": [
       "'Carmelo Anthony'"
      ]
     },
     "execution_count": 41,
     "metadata": {},
     "output_type": "execute_result"
    }
   ],
   "source": [
    "most_similar_to_lebron = nba.loc[int(second_smallest)][\"player\"]\n",
    "most_similar_to_lebron"
   ]
  },
  {
   "cell_type": "markdown",
   "metadata": {},
   "source": [
    "Now that we know how to find the nearest neighbors, we can make predictions on a test set.\n",
    "\n",
    "First, we have to generate **testing** and **training sets**."
   ]
  },
  {
   "cell_type": "code",
   "execution_count": 44,
   "metadata": {},
   "outputs": [],
   "source": [
    "import random\n",
    "from numpy.random import permutation\n",
    "import math\n",
    "\n",
    "nba.fillna(0, inplace=True)\n",
    "\n",
    "# Randomly shuffle the index of nba\n",
    "random_indices = permutation(nba.index)\n",
    "# Set a cutoff for how many items we want in the test set (in this case 1/3 of the items)\n",
    "test_cutoff = math.floor(len(nba)/3)\n",
    "# Generate the test set by taking the first 1/3 of the randomly shuffled indices\n",
    "test = nba.loc[random_indices[:test_cutoff]]\n",
    "# Generate the train set with the rest of the data\n",
    "train = nba.loc[random_indices[test_cutoff:]]"
   ]
  },
  {
   "cell_type": "markdown",
   "metadata": {},
   "source": [
    "Instead of having to do it all ourselves, we can use the [KNN implementation in scikit-learn](http://scikit-learn.org/stable/modules/neighbors.html). While scikit-learn (Sklearn for short) makes a **regressor** and a **classifier** available, we'll be using the **regressor**, as we have continuous values to predict on.\n",
    "\n",
    "Sklearn performs the normalization and distance finding automatically, and lets us specify how many neighbors we want to look at."
   ]
  },
  {
   "cell_type": "code",
   "execution_count": 45,
   "metadata": {},
   "outputs": [],
   "source": [
    "# The columns that we'll be using to make predictions\n",
    "x_columns = ['age', 'g', 'gs', 'mp', 'fg', 'fga', 'fg.', 'x3p', 'x3pa', 'x3p.', \n",
    "             'x2p', 'x2pa', 'x2p.', 'efg.', 'ft', 'fta', 'ft.', 'orb', 'drb',\n",
    "             'trb', 'ast', 'stl', 'blk', 'tov', 'pf']\n",
    "\n",
    "# The column we want to predict\n",
    "y_column = [\"pts\"]"
   ]
  },
  {
   "cell_type": "code",
   "execution_count": null,
   "metadata": {},
   "outputs": [],
   "source": [
    "from sklearn.neighbors import KNeighborsRegressor\n",
    "\n",
    "# Create the kNN model\n",
    "knn = KNeighborsRegressor(n_neighbors=5)\n",
    "\n",
    "# Fit the model on the training data\n",
    "knn.fit(train[x_columns], train[y_column])\n",
    "\n",
    "# Make predictions on the test set using the fit model\n",
    "predictions = knn.predict(test[x_columns])"
   ]
  },
  {
   "attachments": {
    "image.png": {
     "image/png": "[encoded data removed]"
    }
   },
   "cell_type": "markdown",
   "metadata": {},
   "source": [
    "Now that we know our predictions, we can compute the error involved as [mean squared error](https://en.wikipedia.org/wiki/Mean_squared_error). \n",
    "\n",
    "![image.png](attachment:image.png)"
   ]
  },
  {
   "cell_type": "code",
   "execution_count": 46,
   "metadata": {},
   "outputs": [
    {
     "data": {
      "text/plain": [
       "pts    8652.99225\n",
       "dtype: float64"
      ]
     },
     "execution_count": 46,
     "metadata": {},
     "output_type": "execute_result"
    }
   ],
   "source": [
    "actual = test[y_column]\n",
    "mse = (((predictions - actual) ** 2).sum()) / len(predictions)\n",
    "mse"
   ]
  },
  {
   "cell_type": "code",
   "execution_count": null,
   "metadata": {},
   "outputs": [],
   "source": []
  }
 ],
 "metadata": {
  "kernelspec": {
   "display_name": "Python 3",
   "language": "python",
   "name": "python3"
  },
  "language_info": {
   "codemirror_mode": {
    "name": "ipython",
    "version": 3
   },
   "file_extension": ".py",
   "mimetype": "text/x-python",
   "name": "python",
   "nbconvert_exporter": "python",
   "pygments_lexer": "ipython3",
   "version": "3.7.6"
  }
 },
 "nbformat": 4,
 "nbformat_minor": 2
}
