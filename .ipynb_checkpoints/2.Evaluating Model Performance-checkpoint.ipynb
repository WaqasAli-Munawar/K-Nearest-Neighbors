{
 "cells": [
  {
   "cell_type": "code",
   "execution_count": 6,
   "metadata": {},
   "outputs": [],
   "source": [
    "import pandas as pd\n",
    "import numpy as np\n",
    "\n",
    "dc_listings = pd.read_csv(\"dc_airbnb.csv\")"
   ]
  },
  {
   "cell_type": "code",
   "execution_count": 11,
   "metadata": {},
   "outputs": [],
   "source": [
    "dc_listings[\"price\"] = dc_listings[\"price\"].str.replace(\"$\",\"\").str.replace(\",\",\"\").astype(float)"
   ]
  },
  {
   "cell_type": "markdown",
   "metadata": {},
   "source": [
    "We now have a function that can predict the price for any living space we want to list as long as we know the number of people it can accommodate. The function we wrote represents a **machine learning model**, which means that it outputs a prediction based on the input to the model."
   ]
  },
  {
   "cell_type": "code",
   "execution_count": 22,
   "metadata": {},
   "outputs": [],
   "source": [
    "def predict_price(new_listing):\n",
    "    np.random.seed(1)\n",
    "    new_df = dc_listings.copy()\n",
    "    new_df[\"distance\"] = new_df[\"accommodates\"].apply(lambda x : np.abs(new_listing - x))\n",
    "    shuffle_index = np.random.permutation(new_df.index)\n",
    "    new_df = new_df.loc[shuffle_index,:]\n",
    "    new_df = new_df.sort_values(\"distance\")\n",
    "    nearest_neighbors = new_df[\"price\"].head()\n",
    "    predicted_price = nearest_neighbors.mean()\n",
    "    return predicted_price"
   ]
  },
  {
   "cell_type": "markdown",
   "metadata": {},
   "source": [
    "A simple way to test the quality of our model is to:\n",
    "\n",
    "* Split the dataset into 2 partitions:\n",
    "\n",
    " * `the training set`: contains the majority of the rows (75%)\n",
    " * `the test set`: contains the remaining minority of the rows (25%)\n",
    " \n",
    "* Use the rows in the training set to predict the price value for the rows in the test set\n",
    " * add new column named `predicted_price` to the test set\n",
    " \n",
    "* Compare the `predicted_price` values with the actual price values in the test set to see how accurate the predicted values were."
   ]
  },
  {
   "cell_type": "markdown",
   "metadata": {},
   "source": [
    "This validation process, where we use the training set to make predictions and the test set to predict values for, is known as **train/test validation**."
   ]
  },
  {
   "cell_type": "markdown",
   "metadata": {},
   "source": [
    "Whenever we're performing machine learning, we want to perform validation of some kind to ensure that our machine learning model can make good predictions on new data. While **train/test validation** isn't perfect, we'll use it to understand the validation process, to select an error metric"
   ]
  },
  {
   "cell_type": "code",
   "execution_count": 18,
   "metadata": {},
   "outputs": [
    {
     "name": "stdout",
     "output_type": "stream",
     "text": [
      "2792\n"
     ]
    }
   ],
   "source": [
    "train_rows = round(dc_listings.shape[0]*.75)\n",
    "\n",
    "print(train_rows)"
   ]
  },
  {
   "cell_type": "code",
   "execution_count": 21,
   "metadata": {},
   "outputs": [],
   "source": [
    "train_df = dc_listings[:2792].copy()\n",
    "test_df = dc_listings[2792:].copy()"
   ]
  },
  {
   "cell_type": "markdown",
   "metadata": {},
   "source": [
    "Let's modify the `predict_price` function to use only the rows in the **training set**, instead of the full dataset, to find the nearest neighbors, average the price values for those rows, and return the predicted price value. \n",
    "\n",
    "Then, we'll use this function to predict the price for just the rows in the **test set**. Once we have the predicted price values, we can compare with the true price values"
   ]
  },
  {
   "cell_type": "code",
   "execution_count": 26,
   "metadata": {},
   "outputs": [],
   "source": [
    "# using train_df in a fucntion\n",
    "def predict_price(new_listing):\n",
    "    np.random.seed(1)\n",
    "    temp_df = train_df.copy()\n",
    "    temp_df[\"distance\"] = temp_df[\"accommodates\"].apply(lambda x : np.abs(new_listing - x))\n",
    "    shuffle_index = np.random.permutation(temp_df.index)\n",
    "    temp_df = temp_df.loc[shuffle_index,:]\n",
    "    temp_df = temp_df.sort_values(\"distance\")\n",
    "    nearest_neighbors = temp_df[\"price\"].head()\n",
    "    predicted_price = nearest_neighbors.mean()\n",
    "    return predicted_price"
   ]
  },
  {
   "cell_type": "code",
   "execution_count": 28,
   "metadata": {},
   "outputs": [],
   "source": [
    "test_df[\"predicted_price\"] = test_df[\"accommodates\"].apply(predict_price)"
   ]
  },
  {
   "cell_type": "markdown",
   "metadata": {},
   "source": [
    "We now need a metric that quantifies how good the predictions were on the test set. This class of metrics is called an **error metric**."
   ]
  },
  {
   "cell_type": "markdown",
   "metadata": {},
   "source": [
    "As the name suggests, an error metric quantifies how inaccurate our predictions were from the actual values. In our case, the error metric tells us how off our predicted price values were from the actual price values for the living spaces in the test dataset."
   ]
  },
  {
   "attachments": {
    "image.png": {
     "image/png": "[encoded data removed]"
    }
   },
   "cell_type": "markdown",
   "metadata": {},
   "source": [
    "We could start by calculating the difference between each predicted and actual value and then averaging these differences. This is referred to as **mean error** but isn't an effective error metric for most cases. Mean error treats a positive difference differently than a negative difference, but we're really interested in how far off the prediction is in either the positive or negative direction. If the true price was `200` dollars and the model predicted `210` or `190` it's off by `10` dollars either way.\n",
    "\n",
    "We can instead use the **mean absolute error**, where we compute the absolute value of each error before we average all the errors.![image.png](attachment:image.png)"
   ]
  },
  {
   "cell_type": "code",
   "execution_count": 29,
   "metadata": {},
   "outputs": [
    {
     "data": {
      "text/plain": [
       "58.77013963480097"
      ]
     },
     "execution_count": 29,
     "metadata": {},
     "output_type": "execute_result"
    }
   ],
   "source": [
    "mae = np.abs(test_df[\"predicted_price\"] - test_df[\"price\"]).mean()\n",
    "mae"
   ]
  },
  {
   "attachments": {
    "image.png": {
     "image/png": "[encoded data removed]"
    }
   },
   "cell_type": "markdown",
   "metadata": {},
   "source": [
    "For many prediction tasks, we want to penalize predicted values that are further away from the actual value far more than those closer to the actual value.\n",
    "\n",
    "We can instead take the mean of the squared error values, which is called the **mean squared error** or **MSE** for short. The MSE makes the gap between the predicted and actual values more clear. \n",
    "\n",
    "A prediction that's off by `100` dollars will have an error (of `10,000`) that's `100` times more than a prediction that's off by only `10` dollars (which will have an error of `100`).\n",
    "\n",
    "Here's the formula for MSE:\n",
    "\n",
    "![image.png](attachment:image.png)"
   ]
  },
  {
   "cell_type": "markdown",
   "metadata": {},
   "source": [
    "Where `n` represents the number of rows in the test set."
   ]
  },
  {
   "cell_type": "code",
   "execution_count": 32,
   "metadata": {},
   "outputs": [
    {
     "data": {
      "text/plain": [
       "19458.025306122436"
      ]
     },
     "execution_count": 32,
     "metadata": {},
     "output_type": "execute_result"
    }
   ],
   "source": [
    "squared_error = (test_df[\"predicted_price\"] - test_df[\"price\"])**2\n",
    "mse = squared_error.mean()\n",
    "mse"
   ]
  },
  {
   "cell_type": "markdown",
   "metadata": {},
   "source": [
    "The model we trained achieved a **mean squared error** of around **19458**. Is this a high or a low mean squared error value? What does this tell us about the quality of the predictions and the model? By itself, the **mean squared error** value for a single model isn't all that useful."
   ]
  },
  {
   "cell_type": "markdown",
   "metadata": {},
   "source": [
    "The units of **mean squared error** in our case is **dollars squared (not dollars)**, which makes it hard to reason about intuitively as well. \n",
    "\n",
    "We can, however, train another model and then compare the **mean squared error** values to see which model performs better on a relative basis. Recall that a low error metric means that the gap between the predicted list price and actual list price values is low while a high error metric means the gap is high."
   ]
  },
  {
   "cell_type": "markdown",
   "metadata": {},
   "source": [
    "Let's train another model, this time using the bathrooms column, and compare MSE values."
   ]
  },
  {
   "cell_type": "code",
   "execution_count": 33,
   "metadata": {},
   "outputs": [],
   "source": [
    "def predict_price(new_listing):\n",
    "    np.random.seed(1)\n",
    "    temp_df = train_df.copy()\n",
    "    temp_df[\"distance\"] = temp_df[\"bathrooms\"].apply(lambda x : np.abs(new_listing - x))\n",
    "    shuffle_index = np.random.permutation(temp_df.index)\n",
    "    temp_df = temp_df.loc[shuffle_index,:]\n",
    "    temp_df = temp_df.sort_values(\"distance\")\n",
    "    nearest_neighbors = temp_df[\"price\"].head()\n",
    "    predicted_price = nearest_neighbors.mean()\n",
    "    return predicted_price"
   ]
  },
  {
   "cell_type": "code",
   "execution_count": 37,
   "metadata": {},
   "outputs": [
    {
     "data": {
      "text/plain": [
       "16608.31798066611"
      ]
     },
     "execution_count": 37,
     "metadata": {},
     "output_type": "execute_result"
    }
   ],
   "source": [
    "test_df[\"predicted_price\"] = test_df[\"bathrooms\"].apply(predict_price)\n",
    "\n",
    "test_df['squared_error'] = (test_df[\"price\"] - test_df[\"predicted_price\"])**2\n",
    "\n",
    "mse = test_df[\"squared_error\"].mean()\n",
    "mse"
   ]
  },
  {
   "attachments": {
    "image.png": {
     "image/png": "[encoded data removed]"
    }
   },
   "cell_type": "markdown",
   "metadata": {},
   "source": [
    "While comparing MSE values helps us identify which model performs better on a relative basis, it doesn't help us understand if the performance is good enough in general. This is because the units of the MSE metric are squared (in this case, dollars squared). \n",
    "\n",
    "An MSE value of `16608.3 dollars squared` doesn't give us an intuitive sense of how far off the model's predictions are from the true price value in dollars.\n",
    "\n",
    "**Root mean squared error** is an error metric whose units are the base unit (in our case, dollars). ![image.png](attachment:image.png)"
   ]
  },
  {
   "cell_type": "markdown",
   "metadata": {},
   "source": [
    "Since the **RMSE value** uses the same units as the target column, we can understand how far off in real dollars we can expect the model to perform"
   ]
  },
  {
   "cell_type": "code",
   "execution_count": 38,
   "metadata": {},
   "outputs": [
    {
     "data": {
      "text/plain": [
       "128.87326324985378"
      ]
     },
     "execution_count": 38,
     "metadata": {},
     "output_type": "execute_result"
    }
   ],
   "source": [
    "rmse = np.sqrt(mse)\n",
    "rmse"
   ]
  },
  {
   "cell_type": "markdown",
   "metadata": {},
   "source": [
    "The model achieved an RMSE value of approximately 128.87, which implies that we should expect for the model to be off by 128.87 dollars on average for the predicted price values. Given that most of the living spaces are listed at just a few hundred dollars, we need to reduce this error as much as possible to improve the model's usefulness."
   ]
  },
  {
   "attachments": {
    "image.png": {
     "image/png": "[encoded data removed]"
    }
   },
   "cell_type": "markdown",
   "metadata": {},
   "source": [
    "We discussed a few different error metrics we can use to understand a model's performance. As we mentioned earlier, these individual error metrics are helpful for comparing models. To better understand a specific model, we can compare multiple error metrics for the same model. This requires a better understanding of the mathematical properties of the error metrics.\n",
    "\n",
    "If we look at the equation for MAE:\n",
    "\n",
    "![image.png](attachment:image.png)"
   ]
  },
  {
   "attachments": {
    "image.png": {
     "image/png": "[encoded data removed]"
    }
   },
   "cell_type": "markdown",
   "metadata": {},
   "source": [
    "We'll notice that that the differences between predicted and actual values grow linearly. A prediction that's off by 10 dollars has a 10 times higher error than a prediction that's off by 1 dollar. \n",
    "\n",
    "If we look at the equation for RMSE, however:\n",
    "\n",
    "![image.png](attachment:image.png)"
   ]
  },
  {
   "cell_type": "markdown",
   "metadata": {},
   "source": [
    "We'll notice that each error is squared before the square root of the sum of all the errors is taken. This means that the individual errors grows quadratically and has a different effect on the final RMSE value."
   ]
  },
  {
   "cell_type": "markdown",
   "metadata": {},
   "source": [
    "Let's look at an example using different data entirely. We've created 2 Series objects containing 2 sets of errors and assigned to `errors_one` and `errors_two`."
   ]
  },
  {
   "cell_type": "code",
   "execution_count": 40,
   "metadata": {},
   "outputs": [
    {
     "name": "stdout",
     "output_type": "stream",
     "text": [
      "7.5\n",
      "7.905694150420948\n",
      "62.5\n",
      "235.82302686548658\n"
     ]
    }
   ],
   "source": [
    "errors_one = pd.Series([5, 10, 5, 10, 5, 10, 5, 10, 5, 10, 5, \n",
    "                        10, 5, 10, 5, 10, 5, 10])\n",
    "\n",
    "errors_two = pd.Series([5, 10, 5, 10, 5, 10, 5, 10, 5, 10, 5, \n",
    "                        10, 5, 10, 5, 10, 5, 1000])\n",
    "\n",
    "mae_one = errors_one.sum()/len(errors_one)\n",
    "rmse_one = np.sqrt((errors_one**2).sum()/len(errors_one))\n",
    "\n",
    "mae_two = errors_two.sum()/len(errors_two)\n",
    "rmse_two = ((errors_two**2).sum()/len(errors_two))**(1/2)\n",
    "\n",
    "print(mae_one)\n",
    "print(rmse_one)\n",
    "print(mae_two)\n",
    "print(rmse_two)"
   ]
  },
  {
   "cell_type": "markdown",
   "metadata": {},
   "source": [
    "* While the `MAE (7.5)` to `RMSE (7.9056941504209481)` ratio was about `1:1` for the first list of errors, \n",
    "* The `MAE (62.5)` to `RMSE (235.82302686548658)` ratio was closer to `1:4` for the second list of errors. \n",
    "\n",
    "In general, we should expect that the **MAE value** be much less than the **RMSE value**. The only difference between the two sets of errors is the extreme `1000` value in `errors_two` instead of `10`. \n",
    "\n",
    "When we're working with larger data sets, we can't inspect each value to understand if there's one or some outliers or if all of the errors are systematically higher. Looking at the ratio of **MAE** to **RMSE** can help us understand if there are large but infrequent errors."
   ]
  },
  {
   "cell_type": "markdown",
   "metadata": {},
   "source": [
    "We learned how to test our machine learning models using **basic cross validation** and **different metrics**."
   ]
  },
  {
   "cell_type": "code",
   "execution_count": null,
   "metadata": {},
   "outputs": [],
   "source": []
  }
 ],
 "metadata": {
  "kernelspec": {
   "display_name": "Python 3",
   "language": "python",
   "name": "python3"
  },
  "language_info": {
   "codemirror_mode": {
    "name": "ipython",
    "version": 3
   },
   "file_extension": ".py",
   "mimetype": "text/x-python",
   "name": "python",
   "nbconvert_exporter": "python",
   "pygments_lexer": "ipython3",
   "version": "3.7.6"
  }
 },
 "nbformat": 4,
 "nbformat_minor": 2
}
